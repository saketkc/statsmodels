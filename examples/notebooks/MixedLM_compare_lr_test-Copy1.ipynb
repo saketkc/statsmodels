{
 "cells": [
  {
   "cell_type": "code",
   "execution_count": 1,
   "metadata": {
    "collapsed": true
   },
   "outputs": [],
   "source": [
    "import numpy as np\n",
    "import statsmodels.api as sm\n",
    "import statsmodels.formula.api as smf\n",
    "import pandas\n"
   ]
  },
  {
   "cell_type": "code",
   "execution_count": 2,
   "metadata": {
    "collapsed": false
   },
   "outputs": [
    {
     "data": {
      "text/plain": [
       "Loading required package: lattice\n",
       "Loading required package: Matrix\n"
      ]
     },
     "metadata": {},
     "output_type": "display_data"
    }
   ],
   "source": [
    "%load_ext rpy2.ipython\n",
    "%R library(lme4)"
   ]
  },
  {
   "cell_type": "code",
   "execution_count": 3,
   "metadata": {
    "collapsed": false
   },
   "outputs": [
    {
     "data": {
      "text/plain": [
       "Linear mixed model fit by maximum likelihood ['lmerMod']\n",
       "Formula: logdtf ~ (1 | subspecies) + (1 | inventoryID) \n",
       "   Data: data \n",
       "\n",
       "      AIC       BIC    logLik  deviance \n",
       "-118.0267 -106.4653   63.0134 -126.0267 \n",
       "\n",
       "Random effects:\n",
       " Groups      Name        Variance Std.Dev.\n",
       " inventoryID (Intercept) 0.033431 0.1828  \n",
       " subspecies  (Intercept) 0.094382 0.3072  \n",
       " Residual                0.009644 0.0982  \n",
       "Number of obs: 133, groups: inventoryID, 36; subspecies, 9\n",
       "\n",
       "Fixed effects:\n",
       "            Estimate Std. Error t value\n",
       "(Intercept)   3.9756     0.1092   36.42\n"
      ]
     },
     "metadata": {},
     "output_type": "display_data"
    }
   ],
   "source": [
    "%R data <- read.csv('http://www.stat.wisc.edu/~ane/st572/data/floweringTime.txt', sep='\\t')\n",
    "%R data <- subset(data, !is.na(dtf))\n",
    "%R data$logdtf <- log(data$dtf)\n",
    "%R fit <- lmer(logdtf ~ (1|subspecies)+(1|inventoryID), data=data, REML=F)\n",
    "%R print(summary(fit))\n"
   ]
  },
  {
   "cell_type": "code",
   "execution_count": 4,
   "metadata": {
    "collapsed": false
   },
   "outputs": [
    {
     "ename": "AttributeError",
     "evalue": "'dict' object has no attribute 'ndim'",
     "output_type": "error",
     "traceback": [
      "\u001b[1;31m---------------------------------------------------------------------------\u001b[0m",
      "\u001b[1;31mAttributeError\u001b[0m                            Traceback (most recent call last)",
      "\u001b[1;32m<ipython-input-4-41ba3eac700b>\u001b[0m in \u001b[0;36m<module>\u001b[1;34m()\u001b[0m\n\u001b[0;32m      4\u001b[0m \u001b[0mvcf\u001b[0m \u001b[1;33m=\u001b[0m \u001b[1;33m{\u001b[0m\u001b[1;34m\"subspecies\"\u001b[0m \u001b[1;33m:\u001b[0m \u001b[1;34m\"0 + C(subspecies)\"\u001b[0m\u001b[1;33m,\u001b[0m \u001b[1;34m\"inventoryID\"\u001b[0m \u001b[1;33m:\u001b[0m \u001b[1;34m\"0 + C(inventoryID)\"\u001b[0m\u001b[1;33m}\u001b[0m\u001b[1;33m\u001b[0m\u001b[0m\n\u001b[0;32m      5\u001b[0m \u001b[1;33m\u001b[0m\u001b[0m\n\u001b[1;32m----> 6\u001b[1;33m \u001b[0mmodel\u001b[0m \u001b[1;33m=\u001b[0m \u001b[0msm\u001b[0m\u001b[1;33m.\u001b[0m\u001b[0mMixedLM\u001b[0m\u001b[1;33m.\u001b[0m\u001b[0mfrom_formula\u001b[0m\u001b[1;33m(\u001b[0m\u001b[1;34m'logdtf ~ 1'\u001b[0m\u001b[1;33m,\u001b[0m \u001b[0mgroups\u001b[0m\u001b[1;33m=\u001b[0m\u001b[1;34m\"subspecies\"\u001b[0m\u001b[1;33m,\u001b[0m \u001b[0mvc_formula\u001b[0m\u001b[1;33m=\u001b[0m\u001b[0mvcf\u001b[0m\u001b[1;33m,\u001b[0m  \u001b[0mdata\u001b[0m\u001b[1;33m=\u001b[0m\u001b[0mdata\u001b[0m\u001b[1;33m)\u001b[0m\u001b[1;33m\u001b[0m\u001b[0m\n\u001b[0m\u001b[0;32m      7\u001b[0m \u001b[0mresult\u001b[0m \u001b[1;33m=\u001b[0m \u001b[0mmodel\u001b[0m\u001b[1;33m.\u001b[0m\u001b[0mfit\u001b[0m\u001b[1;33m(\u001b[0m\u001b[0mreml\u001b[0m\u001b[1;33m=\u001b[0m\u001b[0mFalse\u001b[0m\u001b[1;33m)\u001b[0m\u001b[1;33m\u001b[0m\u001b[0m\n\u001b[0;32m      8\u001b[0m \u001b[0mresult\u001b[0m\u001b[1;33m.\u001b[0m\u001b[0msummary\u001b[0m\u001b[1;33m(\u001b[0m\u001b[1;33m)\u001b[0m\u001b[1;33m\u001b[0m\u001b[0m\n",
      "\u001b[1;32m/usr/local/lib/python2.7/dist-packages/statsmodels-0.7.0-py2.7-linux-x86_64.egg/statsmodels/regression/mixed_linear_model.pyc\u001b[0m in \u001b[0;36mfrom_formula\u001b[1;34m(cls, formula, data, re_formula, subset, *args, **kwargs)\u001b[0m\n\u001b[0;32m    651\u001b[0m                                                \u001b[0msubset\u001b[0m\u001b[1;33m=\u001b[0m\u001b[0mNone\u001b[0m\u001b[1;33m,\u001b[0m\u001b[1;33m\u001b[0m\u001b[0m\n\u001b[0;32m    652\u001b[0m                                                \u001b[0mexog_re\u001b[0m\u001b[1;33m=\u001b[0m\u001b[0mexog_re\u001b[0m\u001b[1;33m,\u001b[0m\u001b[1;33m\u001b[0m\u001b[0m\n\u001b[1;32m--> 653\u001b[1;33m                                                *args, **kwargs)\n\u001b[0m\u001b[0;32m    654\u001b[0m \u001b[1;33m\u001b[0m\u001b[0m\n\u001b[0;32m    655\u001b[0m         \u001b[1;31m# expand re names to account for pairs of RE\u001b[0m\u001b[1;33m\u001b[0m\u001b[1;33m\u001b[0m\u001b[0m\n",
      "\u001b[1;32m/usr/local/lib/python2.7/dist-packages/statsmodels-0.7.0-py2.7-linux-x86_64.egg/statsmodels/base/model.pyc\u001b[0m in \u001b[0;36mfrom_formula\u001b[1;34m(cls, formula, data, subset, *args, **kwargs)\u001b[0m\n\u001b[0;32m    157\u001b[0m                        \u001b[1;34m'formula'\u001b[0m\u001b[1;33m:\u001b[0m \u001b[0mformula\u001b[0m\u001b[1;33m,\u001b[0m  \u001b[1;31m# attach formula for unpckling\u001b[0m\u001b[1;33m\u001b[0m\u001b[0m\n\u001b[0;32m    158\u001b[0m                        'design_info': design_info})\n\u001b[1;32m--> 159\u001b[1;33m         \u001b[0mmod\u001b[0m \u001b[1;33m=\u001b[0m \u001b[0mcls\u001b[0m\u001b[1;33m(\u001b[0m\u001b[0mendog\u001b[0m\u001b[1;33m,\u001b[0m \u001b[0mexog\u001b[0m\u001b[1;33m,\u001b[0m \u001b[1;33m*\u001b[0m\u001b[0margs\u001b[0m\u001b[1;33m,\u001b[0m \u001b[1;33m**\u001b[0m\u001b[0mkwargs\u001b[0m\u001b[1;33m)\u001b[0m\u001b[1;33m\u001b[0m\u001b[0m\n\u001b[0m\u001b[0;32m    160\u001b[0m         \u001b[0mmod\u001b[0m\u001b[1;33m.\u001b[0m\u001b[0mformula\u001b[0m \u001b[1;33m=\u001b[0m \u001b[0mformula\u001b[0m\u001b[1;33m\u001b[0m\u001b[0m\n\u001b[0;32m    161\u001b[0m \u001b[1;33m\u001b[0m\u001b[0m\n",
      "\u001b[1;32m/usr/local/lib/python2.7/dist-packages/statsmodels-0.7.0-py2.7-linux-x86_64.egg/statsmodels/regression/mixed_linear_model.pyc\u001b[0m in \u001b[0;36m__init__\u001b[1;34m(self, endog, exog, groups, exog_re, use_sqrt, missing, **kwargs)\u001b[0m\n\u001b[0;32m    487\u001b[0m         super(MixedLM, self).__init__(endog, exog, groups=groups,\n\u001b[0;32m    488\u001b[0m                                       \u001b[0mexog_re\u001b[0m\u001b[1;33m=\u001b[0m\u001b[0mexog_re\u001b[0m\u001b[1;33m,\u001b[0m \u001b[0mmissing\u001b[0m\u001b[1;33m=\u001b[0m\u001b[0mmissing\u001b[0m\u001b[1;33m,\u001b[0m\u001b[1;33m\u001b[0m\u001b[0m\n\u001b[1;32m--> 489\u001b[1;33m                                       **kwargs)\n\u001b[0m\u001b[0;32m    490\u001b[0m \u001b[1;33m\u001b[0m\u001b[0m\n\u001b[0;32m    491\u001b[0m         \u001b[0mself\u001b[0m\u001b[1;33m.\u001b[0m\u001b[0m_init_keys\u001b[0m\u001b[1;33m.\u001b[0m\u001b[0mextend\u001b[0m\u001b[1;33m(\u001b[0m\u001b[1;33m[\u001b[0m\u001b[1;34m\"use_sqrt\"\u001b[0m\u001b[1;33m]\u001b[0m\u001b[1;33m)\u001b[0m\u001b[1;33m\u001b[0m\u001b[0m\n",
      "\u001b[1;32m/usr/local/lib/python2.7/dist-packages/statsmodels-0.7.0-py2.7-linux-x86_64.egg/statsmodels/base/model.pyc\u001b[0m in \u001b[0;36m__init__\u001b[1;34m(self, endog, exog, **kwargs)\u001b[0m\n\u001b[0;32m    193\u001b[0m \u001b[1;33m\u001b[0m\u001b[0m\n\u001b[0;32m    194\u001b[0m     \u001b[1;32mdef\u001b[0m \u001b[0m__init__\u001b[0m\u001b[1;33m(\u001b[0m\u001b[0mself\u001b[0m\u001b[1;33m,\u001b[0m \u001b[0mendog\u001b[0m\u001b[1;33m,\u001b[0m \u001b[0mexog\u001b[0m\u001b[1;33m=\u001b[0m\u001b[0mNone\u001b[0m\u001b[1;33m,\u001b[0m \u001b[1;33m**\u001b[0m\u001b[0mkwargs\u001b[0m\u001b[1;33m)\u001b[0m\u001b[1;33m:\u001b[0m\u001b[1;33m\u001b[0m\u001b[0m\n\u001b[1;32m--> 195\u001b[1;33m         \u001b[0msuper\u001b[0m\u001b[1;33m(\u001b[0m\u001b[0mLikelihoodModel\u001b[0m\u001b[1;33m,\u001b[0m \u001b[0mself\u001b[0m\u001b[1;33m)\u001b[0m\u001b[1;33m.\u001b[0m\u001b[0m__init__\u001b[0m\u001b[1;33m(\u001b[0m\u001b[0mendog\u001b[0m\u001b[1;33m,\u001b[0m \u001b[0mexog\u001b[0m\u001b[1;33m,\u001b[0m \u001b[1;33m**\u001b[0m\u001b[0mkwargs\u001b[0m\u001b[1;33m)\u001b[0m\u001b[1;33m\u001b[0m\u001b[0m\n\u001b[0m\u001b[0;32m    196\u001b[0m         \u001b[0mself\u001b[0m\u001b[1;33m.\u001b[0m\u001b[0minitialize\u001b[0m\u001b[1;33m(\u001b[0m\u001b[1;33m)\u001b[0m\u001b[1;33m\u001b[0m\u001b[0m\n\u001b[0;32m    197\u001b[0m \u001b[1;33m\u001b[0m\u001b[0m\n",
      "\u001b[1;32m/usr/local/lib/python2.7/dist-packages/statsmodels-0.7.0-py2.7-linux-x86_64.egg/statsmodels/base/model.pyc\u001b[0m in \u001b[0;36m__init__\u001b[1;34m(self, endog, exog, **kwargs)\u001b[0m\n\u001b[0;32m     60\u001b[0m         \u001b[0mhasconst\u001b[0m \u001b[1;33m=\u001b[0m \u001b[0mkwargs\u001b[0m\u001b[1;33m.\u001b[0m\u001b[0mpop\u001b[0m\u001b[1;33m(\u001b[0m\u001b[1;34m'hasconst'\u001b[0m\u001b[1;33m,\u001b[0m \u001b[0mNone\u001b[0m\u001b[1;33m)\u001b[0m\u001b[1;33m\u001b[0m\u001b[0m\n\u001b[0;32m     61\u001b[0m         self.data = self._handle_data(endog, exog, missing, hasconst,\n\u001b[1;32m---> 62\u001b[1;33m                                       **kwargs)\n\u001b[0m\u001b[0;32m     63\u001b[0m         \u001b[0mself\u001b[0m\u001b[1;33m.\u001b[0m\u001b[0mk_constant\u001b[0m \u001b[1;33m=\u001b[0m \u001b[0mself\u001b[0m\u001b[1;33m.\u001b[0m\u001b[0mdata\u001b[0m\u001b[1;33m.\u001b[0m\u001b[0mk_constant\u001b[0m\u001b[1;33m\u001b[0m\u001b[0m\n\u001b[0;32m     64\u001b[0m         \u001b[0mself\u001b[0m\u001b[1;33m.\u001b[0m\u001b[0mexog\u001b[0m \u001b[1;33m=\u001b[0m \u001b[0mself\u001b[0m\u001b[1;33m.\u001b[0m\u001b[0mdata\u001b[0m\u001b[1;33m.\u001b[0m\u001b[0mexog\u001b[0m\u001b[1;33m\u001b[0m\u001b[0m\n",
      "\u001b[1;32m/usr/local/lib/python2.7/dist-packages/statsmodels-0.7.0-py2.7-linux-x86_64.egg/statsmodels/base/model.pyc\u001b[0m in \u001b[0;36m_handle_data\u001b[1;34m(self, endog, exog, missing, hasconst, **kwargs)\u001b[0m\n\u001b[0;32m     85\u001b[0m \u001b[1;33m\u001b[0m\u001b[0m\n\u001b[0;32m     86\u001b[0m     \u001b[1;32mdef\u001b[0m \u001b[0m_handle_data\u001b[0m\u001b[1;33m(\u001b[0m\u001b[0mself\u001b[0m\u001b[1;33m,\u001b[0m \u001b[0mendog\u001b[0m\u001b[1;33m,\u001b[0m \u001b[0mexog\u001b[0m\u001b[1;33m,\u001b[0m \u001b[0mmissing\u001b[0m\u001b[1;33m,\u001b[0m \u001b[0mhasconst\u001b[0m\u001b[1;33m,\u001b[0m \u001b[1;33m**\u001b[0m\u001b[0mkwargs\u001b[0m\u001b[1;33m)\u001b[0m\u001b[1;33m:\u001b[0m\u001b[1;33m\u001b[0m\u001b[0m\n\u001b[1;32m---> 87\u001b[1;33m         \u001b[0mdata\u001b[0m \u001b[1;33m=\u001b[0m \u001b[0mhandle_data\u001b[0m\u001b[1;33m(\u001b[0m\u001b[0mendog\u001b[0m\u001b[1;33m,\u001b[0m \u001b[0mexog\u001b[0m\u001b[1;33m,\u001b[0m \u001b[0mmissing\u001b[0m\u001b[1;33m,\u001b[0m \u001b[0mhasconst\u001b[0m\u001b[1;33m,\u001b[0m \u001b[1;33m**\u001b[0m\u001b[0mkwargs\u001b[0m\u001b[1;33m)\u001b[0m\u001b[1;33m\u001b[0m\u001b[0m\n\u001b[0m\u001b[0;32m     88\u001b[0m         \u001b[1;31m# kwargs arrays could have changed, easier to just attach here\u001b[0m\u001b[1;33m\u001b[0m\u001b[1;33m\u001b[0m\u001b[0m\n\u001b[0;32m     89\u001b[0m         \u001b[1;32mfor\u001b[0m \u001b[0mkey\u001b[0m \u001b[1;32min\u001b[0m \u001b[0mkwargs\u001b[0m\u001b[1;33m:\u001b[0m\u001b[1;33m\u001b[0m\u001b[0m\n",
      "\u001b[1;32m/usr/local/lib/python2.7/dist-packages/statsmodels-0.7.0-py2.7-linux-x86_64.egg/statsmodels/base/data.pyc\u001b[0m in \u001b[0;36mhandle_data\u001b[1;34m(endog, exog, missing, hasconst, **kwargs)\u001b[0m\n\u001b[0;32m    588\u001b[0m     \u001b[0mklass\u001b[0m \u001b[1;33m=\u001b[0m \u001b[0mhandle_data_class_factory\u001b[0m\u001b[1;33m(\u001b[0m\u001b[0mendog\u001b[0m\u001b[1;33m,\u001b[0m \u001b[0mexog\u001b[0m\u001b[1;33m)\u001b[0m\u001b[1;33m\u001b[0m\u001b[0m\n\u001b[0;32m    589\u001b[0m     return klass(endog, exog=exog, missing=missing, hasconst=hasconst,\n\u001b[1;32m--> 590\u001b[1;33m                  **kwargs)\n\u001b[0m",
      "\u001b[1;32m/usr/local/lib/python2.7/dist-packages/statsmodels-0.7.0-py2.7-linux-x86_64.egg/statsmodels/base/data.pyc\u001b[0m in \u001b[0;36m__init__\u001b[1;34m(self, endog, exog, missing, hasconst, **kwargs)\u001b[0m\n\u001b[0;32m     63\u001b[0m         \u001b[1;32mif\u001b[0m \u001b[0mmissing\u001b[0m \u001b[1;33m!=\u001b[0m \u001b[1;34m'none'\u001b[0m\u001b[1;33m:\u001b[0m\u001b[1;33m\u001b[0m\u001b[0m\n\u001b[0;32m     64\u001b[0m             arrays, nan_idx = self.handle_missing(endog, exog, missing,\n\u001b[1;32m---> 65\u001b[1;33m                                                   **kwargs)\n\u001b[0m\u001b[0;32m     66\u001b[0m             \u001b[0mself\u001b[0m\u001b[1;33m.\u001b[0m\u001b[0mmissing_row_idx\u001b[0m \u001b[1;33m=\u001b[0m \u001b[0mnan_idx\u001b[0m\u001b[1;33m\u001b[0m\u001b[0m\n\u001b[0;32m     67\u001b[0m             \u001b[0mself\u001b[0m\u001b[1;33m.\u001b[0m\u001b[0m__dict__\u001b[0m\u001b[1;33m.\u001b[0m\u001b[0mupdate\u001b[0m\u001b[1;33m(\u001b[0m\u001b[0marrays\u001b[0m\u001b[1;33m)\u001b[0m  \u001b[1;31m# attach all the data arrays\u001b[0m\u001b[1;33m\u001b[0m\u001b[0m\n",
      "\u001b[1;32m/usr/local/lib/python2.7/dist-packages/statsmodels-0.7.0-py2.7-linux-x86_64.egg/statsmodels/base/data.pyc\u001b[0m in \u001b[0;36mhandle_missing\u001b[1;34m(cls, endog, exog, missing, **kwargs)\u001b[0m\n\u001b[0;32m    200\u001b[0m         \u001b[1;32mif\u001b[0m \u001b[0mlen\u001b[0m\u001b[1;33m(\u001b[0m\u001b[0mkwargs\u001b[0m\u001b[1;33m)\u001b[0m\u001b[1;33m:\u001b[0m\u001b[1;33m\u001b[0m\u001b[0m\n\u001b[0;32m    201\u001b[0m             \u001b[1;32mfor\u001b[0m \u001b[0mkey\u001b[0m\u001b[1;33m,\u001b[0m \u001b[0mvalue_array\u001b[0m \u001b[1;32min\u001b[0m \u001b[0miteritems\u001b[0m\u001b[1;33m(\u001b[0m\u001b[0mkwargs\u001b[0m\u001b[1;33m)\u001b[0m\u001b[1;33m:\u001b[0m\u001b[1;33m\u001b[0m\u001b[0m\n\u001b[1;32m--> 202\u001b[1;33m                 \u001b[1;32mif\u001b[0m \u001b[0mvalue_array\u001b[0m \u001b[1;32mis\u001b[0m \u001b[0mNone\u001b[0m \u001b[1;32mor\u001b[0m \u001b[0mvalue_array\u001b[0m\u001b[1;33m.\u001b[0m\u001b[0mndim\u001b[0m \u001b[1;33m==\u001b[0m \u001b[1;36m0\u001b[0m\u001b[1;33m:\u001b[0m\u001b[1;33m\u001b[0m\u001b[0m\n\u001b[0m\u001b[0;32m    203\u001b[0m                     \u001b[0mnone_array_names\u001b[0m \u001b[1;33m+=\u001b[0m \u001b[1;33m[\u001b[0m\u001b[0mkey\u001b[0m\u001b[1;33m]\u001b[0m\u001b[1;33m\u001b[0m\u001b[0m\n\u001b[0;32m    204\u001b[0m                     \u001b[1;32mcontinue\u001b[0m\u001b[1;33m\u001b[0m\u001b[0m\n",
      "\u001b[1;31mAttributeError\u001b[0m: 'dict' object has no attribute 'ndim'"
     ]
    }
   ],
   "source": [
    "data = pandas.read_csv('http://www.stat.wisc.edu/~ane/st572/data/floweringTime.txt', delimiter='\\t', index_col=0)\n",
    "data = data.dropna()\n",
    "data['logdtf'] = np.log(data['dtf'])\n",
    "vcf = {\"subspecies\" : \"0 + C(subspecies)\", \"inventoryID\" : \"0 + C(inventoryID)\"}\n",
    "\n",
    "model = sm.MixedLM.from_formula('logdtf ~ 1', groups=\"subspecies\", vc_formula=vcf,  data=data)\n",
    "result = model.fit(reml=False)\n",
    "result.summary()"
   ]
  },
  {
   "cell_type": "code",
   "execution_count": 57,
   "metadata": {
    "collapsed": false
   },
   "outputs": [
    {
     "data": {
      "text/plain": [
       "Linear mixed model fit by maximum likelihood ['lmerMod']\n",
       "Formula: logdtf ~ (1 | subspecies) \n",
       "   Data: data \n",
       "\n",
       "     AIC      BIC   logLik deviance \n",
       "-23.3853 -14.7142  14.6926 -29.3853 \n",
       "\n",
       "Random effects:\n",
       " Groups     Name        Variance Std.Dev.\n",
       " subspecies (Intercept) 0.10092  0.3177  \n",
       " Residual               0.03709  0.1926  \n",
       "Number of obs: 133, groups: subspecies, 9\n",
       "\n",
       "Fixed effects:\n",
       "            Estimate Std. Error t value\n",
       "(Intercept)    3.959      0.108   36.66\n"
      ]
     },
     "metadata": {},
     "output_type": "display_data"
    }
   ],
   "source": [
    "%R fit.noinventory <- update(fit, .~.- (1|inventoryID))\n",
    "%R print(summary(fit.noinventory))\n"
   ]
  },
  {
   "cell_type": "code",
   "execution_count": 5,
   "metadata": {
    "collapsed": false
   },
   "outputs": [
    {
     "ename": "AttributeError",
     "evalue": "'dict' object has no attribute 'ndim'",
     "output_type": "error",
     "traceback": [
      "\u001b[1;31m---------------------------------------------------------------------------\u001b[0m",
      "\u001b[1;31mAttributeError\u001b[0m                            Traceback (most recent call last)",
      "\u001b[1;32m<ipython-input-5-548c974972f6>\u001b[0m in \u001b[0;36m<module>\u001b[1;34m()\u001b[0m\n\u001b[0;32m      3\u001b[0m \u001b[1;31m#data['logdtf'] = np.log(data['dtf'])\u001b[0m\u001b[1;33m\u001b[0m\u001b[1;33m\u001b[0m\u001b[0m\n\u001b[0;32m      4\u001b[0m \u001b[0mvcf\u001b[0m \u001b[1;33m=\u001b[0m \u001b[1;33m{\u001b[0m\u001b[1;34m\"subspecies\"\u001b[0m \u001b[1;33m:\u001b[0m \u001b[1;34m\"1 + C(subspecies)\"\u001b[0m\u001b[1;33m}\u001b[0m\u001b[1;33m\u001b[0m\u001b[0m\n\u001b[1;32m----> 5\u001b[1;33m \u001b[0mmodel_noinventory\u001b[0m \u001b[1;33m=\u001b[0m \u001b[0msm\u001b[0m\u001b[1;33m.\u001b[0m\u001b[0mMixedLM\u001b[0m\u001b[1;33m.\u001b[0m\u001b[0mfrom_formula\u001b[0m\u001b[1;33m(\u001b[0m\u001b[1;34m'logdtf ~ 1'\u001b[0m\u001b[1;33m,\u001b[0m \u001b[0mgroups\u001b[0m\u001b[1;33m=\u001b[0m\u001b[1;34m\"subspecies\"\u001b[0m\u001b[1;33m,\u001b[0m  \u001b[0mvc_formula\u001b[0m\u001b[1;33m=\u001b[0m\u001b[0mvcf\u001b[0m\u001b[1;33m,\u001b[0m \u001b[0mdata\u001b[0m\u001b[1;33m=\u001b[0m\u001b[0mdata\u001b[0m\u001b[1;33m)\u001b[0m\u001b[1;33m\u001b[0m\u001b[0m\n\u001b[0m\u001b[0;32m      6\u001b[0m \u001b[0mresult_noinventory\u001b[0m \u001b[1;33m=\u001b[0m \u001b[0mmodel_noinventory\u001b[0m\u001b[1;33m.\u001b[0m\u001b[0mfit\u001b[0m\u001b[1;33m(\u001b[0m\u001b[0mreml\u001b[0m\u001b[1;33m=\u001b[0m\u001b[0mFalse\u001b[0m\u001b[1;33m)\u001b[0m\u001b[1;33m\u001b[0m\u001b[0m\n\u001b[0;32m      7\u001b[0m \u001b[0mresult_noinventory\u001b[0m\u001b[1;33m.\u001b[0m\u001b[0msummary\u001b[0m\u001b[1;33m(\u001b[0m\u001b[1;33m)\u001b[0m\u001b[1;33m\u001b[0m\u001b[0m\n",
      "\u001b[1;32m/usr/local/lib/python2.7/dist-packages/statsmodels-0.7.0-py2.7-linux-x86_64.egg/statsmodels/regression/mixed_linear_model.pyc\u001b[0m in \u001b[0;36mfrom_formula\u001b[1;34m(cls, formula, data, re_formula, subset, *args, **kwargs)\u001b[0m\n\u001b[0;32m    651\u001b[0m                                                \u001b[0msubset\u001b[0m\u001b[1;33m=\u001b[0m\u001b[0mNone\u001b[0m\u001b[1;33m,\u001b[0m\u001b[1;33m\u001b[0m\u001b[0m\n\u001b[0;32m    652\u001b[0m                                                \u001b[0mexog_re\u001b[0m\u001b[1;33m=\u001b[0m\u001b[0mexog_re\u001b[0m\u001b[1;33m,\u001b[0m\u001b[1;33m\u001b[0m\u001b[0m\n\u001b[1;32m--> 653\u001b[1;33m                                                *args, **kwargs)\n\u001b[0m\u001b[0;32m    654\u001b[0m \u001b[1;33m\u001b[0m\u001b[0m\n\u001b[0;32m    655\u001b[0m         \u001b[1;31m# expand re names to account for pairs of RE\u001b[0m\u001b[1;33m\u001b[0m\u001b[1;33m\u001b[0m\u001b[0m\n",
      "\u001b[1;32m/usr/local/lib/python2.7/dist-packages/statsmodels-0.7.0-py2.7-linux-x86_64.egg/statsmodels/base/model.pyc\u001b[0m in \u001b[0;36mfrom_formula\u001b[1;34m(cls, formula, data, subset, *args, **kwargs)\u001b[0m\n\u001b[0;32m    157\u001b[0m                        \u001b[1;34m'formula'\u001b[0m\u001b[1;33m:\u001b[0m \u001b[0mformula\u001b[0m\u001b[1;33m,\u001b[0m  \u001b[1;31m# attach formula for unpckling\u001b[0m\u001b[1;33m\u001b[0m\u001b[0m\n\u001b[0;32m    158\u001b[0m                        'design_info': design_info})\n\u001b[1;32m--> 159\u001b[1;33m         \u001b[0mmod\u001b[0m \u001b[1;33m=\u001b[0m \u001b[0mcls\u001b[0m\u001b[1;33m(\u001b[0m\u001b[0mendog\u001b[0m\u001b[1;33m,\u001b[0m \u001b[0mexog\u001b[0m\u001b[1;33m,\u001b[0m \u001b[1;33m*\u001b[0m\u001b[0margs\u001b[0m\u001b[1;33m,\u001b[0m \u001b[1;33m**\u001b[0m\u001b[0mkwargs\u001b[0m\u001b[1;33m)\u001b[0m\u001b[1;33m\u001b[0m\u001b[0m\n\u001b[0m\u001b[0;32m    160\u001b[0m         \u001b[0mmod\u001b[0m\u001b[1;33m.\u001b[0m\u001b[0mformula\u001b[0m \u001b[1;33m=\u001b[0m \u001b[0mformula\u001b[0m\u001b[1;33m\u001b[0m\u001b[0m\n\u001b[0;32m    161\u001b[0m \u001b[1;33m\u001b[0m\u001b[0m\n",
      "\u001b[1;32m/usr/local/lib/python2.7/dist-packages/statsmodels-0.7.0-py2.7-linux-x86_64.egg/statsmodels/regression/mixed_linear_model.pyc\u001b[0m in \u001b[0;36m__init__\u001b[1;34m(self, endog, exog, groups, exog_re, use_sqrt, missing, **kwargs)\u001b[0m\n\u001b[0;32m    487\u001b[0m         super(MixedLM, self).__init__(endog, exog, groups=groups,\n\u001b[0;32m    488\u001b[0m                                       \u001b[0mexog_re\u001b[0m\u001b[1;33m=\u001b[0m\u001b[0mexog_re\u001b[0m\u001b[1;33m,\u001b[0m \u001b[0mmissing\u001b[0m\u001b[1;33m=\u001b[0m\u001b[0mmissing\u001b[0m\u001b[1;33m,\u001b[0m\u001b[1;33m\u001b[0m\u001b[0m\n\u001b[1;32m--> 489\u001b[1;33m                                       **kwargs)\n\u001b[0m\u001b[0;32m    490\u001b[0m \u001b[1;33m\u001b[0m\u001b[0m\n\u001b[0;32m    491\u001b[0m         \u001b[0mself\u001b[0m\u001b[1;33m.\u001b[0m\u001b[0m_init_keys\u001b[0m\u001b[1;33m.\u001b[0m\u001b[0mextend\u001b[0m\u001b[1;33m(\u001b[0m\u001b[1;33m[\u001b[0m\u001b[1;34m\"use_sqrt\"\u001b[0m\u001b[1;33m]\u001b[0m\u001b[1;33m)\u001b[0m\u001b[1;33m\u001b[0m\u001b[0m\n",
      "\u001b[1;32m/usr/local/lib/python2.7/dist-packages/statsmodels-0.7.0-py2.7-linux-x86_64.egg/statsmodels/base/model.pyc\u001b[0m in \u001b[0;36m__init__\u001b[1;34m(self, endog, exog, **kwargs)\u001b[0m\n\u001b[0;32m    193\u001b[0m \u001b[1;33m\u001b[0m\u001b[0m\n\u001b[0;32m    194\u001b[0m     \u001b[1;32mdef\u001b[0m \u001b[0m__init__\u001b[0m\u001b[1;33m(\u001b[0m\u001b[0mself\u001b[0m\u001b[1;33m,\u001b[0m \u001b[0mendog\u001b[0m\u001b[1;33m,\u001b[0m \u001b[0mexog\u001b[0m\u001b[1;33m=\u001b[0m\u001b[0mNone\u001b[0m\u001b[1;33m,\u001b[0m \u001b[1;33m**\u001b[0m\u001b[0mkwargs\u001b[0m\u001b[1;33m)\u001b[0m\u001b[1;33m:\u001b[0m\u001b[1;33m\u001b[0m\u001b[0m\n\u001b[1;32m--> 195\u001b[1;33m         \u001b[0msuper\u001b[0m\u001b[1;33m(\u001b[0m\u001b[0mLikelihoodModel\u001b[0m\u001b[1;33m,\u001b[0m \u001b[0mself\u001b[0m\u001b[1;33m)\u001b[0m\u001b[1;33m.\u001b[0m\u001b[0m__init__\u001b[0m\u001b[1;33m(\u001b[0m\u001b[0mendog\u001b[0m\u001b[1;33m,\u001b[0m \u001b[0mexog\u001b[0m\u001b[1;33m,\u001b[0m \u001b[1;33m**\u001b[0m\u001b[0mkwargs\u001b[0m\u001b[1;33m)\u001b[0m\u001b[1;33m\u001b[0m\u001b[0m\n\u001b[0m\u001b[0;32m    196\u001b[0m         \u001b[0mself\u001b[0m\u001b[1;33m.\u001b[0m\u001b[0minitialize\u001b[0m\u001b[1;33m(\u001b[0m\u001b[1;33m)\u001b[0m\u001b[1;33m\u001b[0m\u001b[0m\n\u001b[0;32m    197\u001b[0m \u001b[1;33m\u001b[0m\u001b[0m\n",
      "\u001b[1;32m/usr/local/lib/python2.7/dist-packages/statsmodels-0.7.0-py2.7-linux-x86_64.egg/statsmodels/base/model.pyc\u001b[0m in \u001b[0;36m__init__\u001b[1;34m(self, endog, exog, **kwargs)\u001b[0m\n\u001b[0;32m     60\u001b[0m         \u001b[0mhasconst\u001b[0m \u001b[1;33m=\u001b[0m \u001b[0mkwargs\u001b[0m\u001b[1;33m.\u001b[0m\u001b[0mpop\u001b[0m\u001b[1;33m(\u001b[0m\u001b[1;34m'hasconst'\u001b[0m\u001b[1;33m,\u001b[0m \u001b[0mNone\u001b[0m\u001b[1;33m)\u001b[0m\u001b[1;33m\u001b[0m\u001b[0m\n\u001b[0;32m     61\u001b[0m         self.data = self._handle_data(endog, exog, missing, hasconst,\n\u001b[1;32m---> 62\u001b[1;33m                                       **kwargs)\n\u001b[0m\u001b[0;32m     63\u001b[0m         \u001b[0mself\u001b[0m\u001b[1;33m.\u001b[0m\u001b[0mk_constant\u001b[0m \u001b[1;33m=\u001b[0m \u001b[0mself\u001b[0m\u001b[1;33m.\u001b[0m\u001b[0mdata\u001b[0m\u001b[1;33m.\u001b[0m\u001b[0mk_constant\u001b[0m\u001b[1;33m\u001b[0m\u001b[0m\n\u001b[0;32m     64\u001b[0m         \u001b[0mself\u001b[0m\u001b[1;33m.\u001b[0m\u001b[0mexog\u001b[0m \u001b[1;33m=\u001b[0m \u001b[0mself\u001b[0m\u001b[1;33m.\u001b[0m\u001b[0mdata\u001b[0m\u001b[1;33m.\u001b[0m\u001b[0mexog\u001b[0m\u001b[1;33m\u001b[0m\u001b[0m\n",
      "\u001b[1;32m/usr/local/lib/python2.7/dist-packages/statsmodels-0.7.0-py2.7-linux-x86_64.egg/statsmodels/base/model.pyc\u001b[0m in \u001b[0;36m_handle_data\u001b[1;34m(self, endog, exog, missing, hasconst, **kwargs)\u001b[0m\n\u001b[0;32m     85\u001b[0m \u001b[1;33m\u001b[0m\u001b[0m\n\u001b[0;32m     86\u001b[0m     \u001b[1;32mdef\u001b[0m \u001b[0m_handle_data\u001b[0m\u001b[1;33m(\u001b[0m\u001b[0mself\u001b[0m\u001b[1;33m,\u001b[0m \u001b[0mendog\u001b[0m\u001b[1;33m,\u001b[0m \u001b[0mexog\u001b[0m\u001b[1;33m,\u001b[0m \u001b[0mmissing\u001b[0m\u001b[1;33m,\u001b[0m \u001b[0mhasconst\u001b[0m\u001b[1;33m,\u001b[0m \u001b[1;33m**\u001b[0m\u001b[0mkwargs\u001b[0m\u001b[1;33m)\u001b[0m\u001b[1;33m:\u001b[0m\u001b[1;33m\u001b[0m\u001b[0m\n\u001b[1;32m---> 87\u001b[1;33m         \u001b[0mdata\u001b[0m \u001b[1;33m=\u001b[0m \u001b[0mhandle_data\u001b[0m\u001b[1;33m(\u001b[0m\u001b[0mendog\u001b[0m\u001b[1;33m,\u001b[0m \u001b[0mexog\u001b[0m\u001b[1;33m,\u001b[0m \u001b[0mmissing\u001b[0m\u001b[1;33m,\u001b[0m \u001b[0mhasconst\u001b[0m\u001b[1;33m,\u001b[0m \u001b[1;33m**\u001b[0m\u001b[0mkwargs\u001b[0m\u001b[1;33m)\u001b[0m\u001b[1;33m\u001b[0m\u001b[0m\n\u001b[0m\u001b[0;32m     88\u001b[0m         \u001b[1;31m# kwargs arrays could have changed, easier to just attach here\u001b[0m\u001b[1;33m\u001b[0m\u001b[1;33m\u001b[0m\u001b[0m\n\u001b[0;32m     89\u001b[0m         \u001b[1;32mfor\u001b[0m \u001b[0mkey\u001b[0m \u001b[1;32min\u001b[0m \u001b[0mkwargs\u001b[0m\u001b[1;33m:\u001b[0m\u001b[1;33m\u001b[0m\u001b[0m\n",
      "\u001b[1;32m/usr/local/lib/python2.7/dist-packages/statsmodels-0.7.0-py2.7-linux-x86_64.egg/statsmodels/base/data.pyc\u001b[0m in \u001b[0;36mhandle_data\u001b[1;34m(endog, exog, missing, hasconst, **kwargs)\u001b[0m\n\u001b[0;32m    588\u001b[0m     \u001b[0mklass\u001b[0m \u001b[1;33m=\u001b[0m \u001b[0mhandle_data_class_factory\u001b[0m\u001b[1;33m(\u001b[0m\u001b[0mendog\u001b[0m\u001b[1;33m,\u001b[0m \u001b[0mexog\u001b[0m\u001b[1;33m)\u001b[0m\u001b[1;33m\u001b[0m\u001b[0m\n\u001b[0;32m    589\u001b[0m     return klass(endog, exog=exog, missing=missing, hasconst=hasconst,\n\u001b[1;32m--> 590\u001b[1;33m                  **kwargs)\n\u001b[0m",
      "\u001b[1;32m/usr/local/lib/python2.7/dist-packages/statsmodels-0.7.0-py2.7-linux-x86_64.egg/statsmodels/base/data.pyc\u001b[0m in \u001b[0;36m__init__\u001b[1;34m(self, endog, exog, missing, hasconst, **kwargs)\u001b[0m\n\u001b[0;32m     63\u001b[0m         \u001b[1;32mif\u001b[0m \u001b[0mmissing\u001b[0m \u001b[1;33m!=\u001b[0m \u001b[1;34m'none'\u001b[0m\u001b[1;33m:\u001b[0m\u001b[1;33m\u001b[0m\u001b[0m\n\u001b[0;32m     64\u001b[0m             arrays, nan_idx = self.handle_missing(endog, exog, missing,\n\u001b[1;32m---> 65\u001b[1;33m                                                   **kwargs)\n\u001b[0m\u001b[0;32m     66\u001b[0m             \u001b[0mself\u001b[0m\u001b[1;33m.\u001b[0m\u001b[0mmissing_row_idx\u001b[0m \u001b[1;33m=\u001b[0m \u001b[0mnan_idx\u001b[0m\u001b[1;33m\u001b[0m\u001b[0m\n\u001b[0;32m     67\u001b[0m             \u001b[0mself\u001b[0m\u001b[1;33m.\u001b[0m\u001b[0m__dict__\u001b[0m\u001b[1;33m.\u001b[0m\u001b[0mupdate\u001b[0m\u001b[1;33m(\u001b[0m\u001b[0marrays\u001b[0m\u001b[1;33m)\u001b[0m  \u001b[1;31m# attach all the data arrays\u001b[0m\u001b[1;33m\u001b[0m\u001b[0m\n",
      "\u001b[1;32m/usr/local/lib/python2.7/dist-packages/statsmodels-0.7.0-py2.7-linux-x86_64.egg/statsmodels/base/data.pyc\u001b[0m in \u001b[0;36mhandle_missing\u001b[1;34m(cls, endog, exog, missing, **kwargs)\u001b[0m\n\u001b[0;32m    200\u001b[0m         \u001b[1;32mif\u001b[0m \u001b[0mlen\u001b[0m\u001b[1;33m(\u001b[0m\u001b[0mkwargs\u001b[0m\u001b[1;33m)\u001b[0m\u001b[1;33m:\u001b[0m\u001b[1;33m\u001b[0m\u001b[0m\n\u001b[0;32m    201\u001b[0m             \u001b[1;32mfor\u001b[0m \u001b[0mkey\u001b[0m\u001b[1;33m,\u001b[0m \u001b[0mvalue_array\u001b[0m \u001b[1;32min\u001b[0m \u001b[0miteritems\u001b[0m\u001b[1;33m(\u001b[0m\u001b[0mkwargs\u001b[0m\u001b[1;33m)\u001b[0m\u001b[1;33m:\u001b[0m\u001b[1;33m\u001b[0m\u001b[0m\n\u001b[1;32m--> 202\u001b[1;33m                 \u001b[1;32mif\u001b[0m \u001b[0mvalue_array\u001b[0m \u001b[1;32mis\u001b[0m \u001b[0mNone\u001b[0m \u001b[1;32mor\u001b[0m \u001b[0mvalue_array\u001b[0m\u001b[1;33m.\u001b[0m\u001b[0mndim\u001b[0m \u001b[1;33m==\u001b[0m \u001b[1;36m0\u001b[0m\u001b[1;33m:\u001b[0m\u001b[1;33m\u001b[0m\u001b[0m\n\u001b[0m\u001b[0;32m    203\u001b[0m                     \u001b[0mnone_array_names\u001b[0m \u001b[1;33m+=\u001b[0m \u001b[1;33m[\u001b[0m\u001b[0mkey\u001b[0m\u001b[1;33m]\u001b[0m\u001b[1;33m\u001b[0m\u001b[0m\n\u001b[0;32m    204\u001b[0m                     \u001b[1;32mcontinue\u001b[0m\u001b[1;33m\u001b[0m\u001b[0m\n",
      "\u001b[1;31mAttributeError\u001b[0m: 'dict' object has no attribute 'ndim'"
     ]
    }
   ],
   "source": [
    "#data = pandas.read_csv('http://www.stat.wisc.edu/~ane/st572/data/floweringTime.txt', delimiter='\\t', index_col=0)\n",
    "#data = data.dropna()\n",
    "#data['logdtf'] = np.log(data['dtf'])\n",
    "vcf = {\"subspecies\" : \"1 + C(subspecies)\"}\n",
    "model_noinventory = sm.MixedLM.from_formula('logdtf ~ 1', groups=\"subspecies\",  vc_formula=vcf, data=data)\n",
    "result_noinventory = model_noinventory.fit(reml=False)\n",
    "result_noinventory.summary()"
   ]
  },
  {
   "cell_type": "code",
   "execution_count": 59,
   "metadata": {
    "collapsed": false
   },
   "outputs": [
    {
     "data": {
      "text/plain": [
       "Data: data\n",
       "Models:\n",
       "fit.noinventory: logdtf ~ (1 | subspecies)\n",
       "fit: logdtf ~ (1 | subspecies) + (1 | inventoryID)\n",
       "                Df      AIC      BIC logLik deviance  Chisq Chi Df Pr(>Chisq)\n",
       "fit.noinventory  3  -23.385  -14.714 14.693  -29.385                         \n",
       "fit              4 -118.027 -106.465 63.013 -126.027 96.641      1  < 2.2e-16\n",
       "                   \n",
       "fit.noinventory    \n",
       "fit             ***\n",
       "---\n",
       "Signif. codes:  0 ‘***’ 0.001 ‘**’ 0.01 ‘*’ 0.05 ‘.’ 0.1 ‘ ’ 1\n"
      ]
     },
     "metadata": {},
     "output_type": "display_data"
    }
   ],
   "source": [
    "%R print(anova(fit, fit.noinventory))"
   ]
  },
  {
   "cell_type": "code",
   "execution_count": 6,
   "metadata": {
    "collapsed": false,
    "scrolled": true
   },
   "outputs": [
    {
     "ename": "NameError",
     "evalue": "name 'result' is not defined",
     "output_type": "error",
     "traceback": [
      "\u001b[1;31m---------------------------------------------------------------------------\u001b[0m",
      "\u001b[1;31mNameError\u001b[0m                                 Traceback (most recent call last)",
      "\u001b[1;32m<ipython-input-6-1f75cf7c583b>\u001b[0m in \u001b[0;36m<module>\u001b[1;34m()\u001b[0m\n\u001b[1;32m----> 1\u001b[1;33m \u001b[0mresult\u001b[0m\u001b[1;33m.\u001b[0m\u001b[0mcompare_lr_test\u001b[0m\u001b[1;33m(\u001b[0m\u001b[0mresult_noinventory\u001b[0m\u001b[1;33m)\u001b[0m\u001b[1;33m\u001b[0m\u001b[0m\n\u001b[0m",
      "\u001b[1;31mNameError\u001b[0m: name 'result' is not defined"
     ]
    }
   ],
   "source": [
    "result.compare_lr_test(result_noinventory)\n"
   ]
  },
  {
   "cell_type": "code",
   "execution_count": 7,
   "metadata": {
    "collapsed": false
   },
   "outputs": [
    {
     "data": {
      "text/plain": [
       "Linear mixed model fit by REML ['lmerMod']\n",
       "Formula: score ~ phase * time * language + (1 | pair) + (1 | child) \n",
       "   Data: data \n",
       "\n",
       "REML criterion at convergence: 1172.664 \n",
       "\n",
       "Random effects:\n",
       " Groups   Name        Variance Std.Dev.\n",
       " child    (Intercept) 26.58    5.155   \n",
       " pair     (Intercept)  0.00    0.000   \n",
       " Residual             92.59    9.622   \n",
       "Number of obs: 160, groups: child, 40; pair, 20\n",
       "\n",
       "Fixed effects:\n",
       "                                            Estimate Std. Error t value\n",
       "(Intercept)                                   24.000      2.441   9.832\n",
       "phasepre-switch                                6.500      3.043   2.136\n",
       "timeend                                       34.250      3.043  11.256\n",
       "languagemonolingual                           -1.000      3.452  -0.290\n",
       "phasepre-switch:timeend                       -5.500      4.303  -1.278\n",
       "phasepre-switch:languagemonolingual           -5.750      4.303  -1.336\n",
       "timeend:languagemonolingual                  -17.500      4.303  -4.067\n",
       "phasepre-switch:timeend:languagemonolingual   20.250      6.086   3.327\n",
       "\n",
       "Correlation of Fixed Effects:\n",
       "              (Intr) phspr- timend lnggmn phspr-swtch:t phspr-swtch:l tmnd:l\n",
       "phspr-swtch   -0.623                                                        \n",
       "timeend       -0.623  0.500                                                 \n",
       "langgmnlngl   -0.707  0.441  0.441                                          \n",
       "phspr-swtch:t  0.441 -0.707 -0.707 -0.312                                   \n",
       "phspr-swtch:l  0.441 -0.707 -0.354 -0.623  0.500                            \n",
       "tmnd:lnggmn    0.441 -0.354 -0.707 -0.623  0.500         0.500              \n",
       "phspr-swt::   -0.312  0.500  0.500  0.441 -0.707        -0.707        -0.707\n"
      ]
     },
     "metadata": {},
     "output_type": "display_data"
    }
   ],
   "source": [
    "%R data <- read.table('http://www.stat.wisc.edu/~ane/st572/data/bilingual.txt', header=T)\n",
    "%R fit = lmer(score ~ phase * time * language + (1|pair) + (1|child), data=data)\n",
    "%R print(summary(fit))"
   ]
  },
  {
   "cell_type": "code",
   "execution_count": 65,
   "metadata": {
    "collapsed": false
   },
   "outputs": [
    {
     "name": "stdout",
     "output_type": "stream",
     "text": [
      "                                Mixed Linear Model Regression Results\n",
      "====================================================================================================\n",
      "Model:                           MixedLM                Dependent Variable:                score    \n",
      "No. Observations:                160                    Method:                            ML       \n",
      "No. Groups:                      20                     Scale:                             87.9608  \n",
      "Min. group size:                 8                      Likelihood:                        -600.4745\n",
      "Max. group size:                 8                      Converged:                         Yes      \n",
      "Mean group size:                 8.0                                                                \n",
      "----------------------------------------------------------------------------------------------------\n",
      "                                                         Coef.  Std.Err.   z    P>|z|  [0.025 0.975]\n",
      "----------------------------------------------------------------------------------------------------\n",
      "Intercept                                                24.000    2.379 10.087 0.000  19.337 28.663\n",
      "phase[T.pre-switch]                                       6.500    2.966  2.192 0.028   0.687 12.313\n",
      "time[T.end]                                              34.250    2.966 11.548 0.000  28.437 40.063\n",
      "language[T.monolingual]                                  -1.000    3.365 -0.297 0.766  -7.595  5.595\n",
      "phase[T.pre-switch]:time[T.end]                          -5.500    4.194 -1.311 0.190 -13.721  2.721\n",
      "phase[T.pre-switch]:language[T.monolingual]              -5.750    4.194 -1.371 0.170 -13.971  2.471\n",
      "time[T.end]:language[T.monolingual]                     -17.500    4.194 -4.172 0.000 -25.721 -9.279\n",
      "phase[T.pre-switch]:time[T.end]:language[T.monolingual]  20.250    5.932  3.414 0.001   8.624 31.876\n",
      "child RE                                                 25.250    1.639                            \n",
      "pair RE                                                   0.000    1.133                            \n",
      "====================================================================================================\n",
      "\n"
     ]
    },
    {
     "name": "stderr",
     "output_type": "stream",
     "text": [
      "/usr/local/lib/python2.7/dist-packages/statsmodels-0.7.0-py2.7-linux-x86_64.egg/statsmodels/regression/mixed_linear_model.py:1912: ConvergenceWarning: The MLE may be on the boundary of the parameter space.\n",
      "  warnings.warn(msg, ConvergenceWarning)\n"
     ]
    }
   ],
   "source": [
    "data = pandas.read_table('bilingual.txt', skipinitialspace=True)\n",
    "vcf = {\"pair\" : \"0 + C(pair)\", \"child\" : \"0 + C(child)\"}\n",
    "model = sm.MixedLM.from_formula('score ~  phase*time*language', groups='pair', vc_formula=vcf, data=data)\n",
    "result = model.fit(reml=False)\n",
    "print (result.summary())"
   ]
  },
  {
   "cell_type": "code",
   "execution_count": 66,
   "metadata": {
    "collapsed": false
   },
   "outputs": [
    {
     "data": {
      "text/plain": [
       "Linear mixed model fit by REML ['lmerMod']\n",
       "Formula: score ~ phase + time + language + (1 | pair) + (1 | child) +      phase:time + phase:language + time:language \n",
       "   Data: data \n",
       "\n",
       "REML criterion at convergence: 1188.769 \n",
       "\n",
       "Random effects:\n",
       " Groups   Name        Variance Std.Dev.\n",
       " child    (Intercept)  24.55    4.955  \n",
       " pair     (Intercept)   0.00    0.000  \n",
       " Residual             100.70   10.035  \n",
       "Number of obs: 160, groups: child, 40; pair, 20\n",
       "\n",
       "Fixed effects:\n",
       "                                    Estimate Std. Error t value\n",
       "(Intercept)                           26.531      2.373  11.178\n",
       "phasepre-switch                        1.437      2.748   0.523\n",
       "timeend                               29.187      2.748  10.621\n",
       "languagemonolingual                   -6.063      3.163  -1.916\n",
       "phasepre-switch:timeend                4.625      3.173   1.457\n",
       "phasepre-switch:languagemonolingual    4.375      3.173   1.379\n",
       "timeend:languagemonolingual           -7.375      3.173  -2.324\n",
       "\n",
       "Correlation of Fixed Effects:\n",
       "              (Intr) phspr- timend lnggmn phspr-swtch:t phspr-swtch:l\n",
       "phspr-swtch   -0.579                                                 \n",
       "timeend       -0.579  0.333                                          \n",
       "langgmnlngl   -0.666  0.290  0.290                                   \n",
       "phspr-swtch:t  0.334 -0.577 -0.577  0.000                            \n",
       "phspr-swtch:l  0.334 -0.577  0.000 -0.502  0.000                     \n",
       "tmnd:lnggmn    0.334  0.000 -0.577 -0.502  0.000         0.000       \n"
      ]
     },
     "metadata": {},
     "output_type": "display_data"
    }
   ],
   "source": [
    "#%R fitno3way = lmer(score ~ (1|pair) + (1|child), data=data)\n",
    "%R fitno3way <- update(fit, .~. - phase:time:language)\n",
    "%R print(summary(fitno3way))\n"
   ]
  },
  {
   "cell_type": "code",
   "execution_count": 67,
   "metadata": {
    "collapsed": false
   },
   "outputs": [
    {
     "name": "stdout",
     "output_type": "stream",
     "text": [
      "                         Mixed Linear Model Regression Results\n",
      "=======================================================================================\n",
      "Model:                        MixedLM           Dependent Variable:           score    \n",
      "No. Observations:             160               Method:                       ML       \n",
      "No. Groups:                   20                Scale:                        102.3728 \n",
      "Min. group size:              8                 Likelihood:                   -606.5522\n",
      "Max. group size:              8                 Converged:                    No       \n",
      "Mean group size:              8.0                                                      \n",
      "---------------------------------------------------------------------------------------\n",
      "                                            Coef.  Std.Err.   z    P>|z|  [0.025 0.975]\n",
      "---------------------------------------------------------------------------------------\n",
      "Intercept                                   26.531    2.288 11.594 0.000  22.046 31.016\n",
      "phase[T.pre-switch]                          1.437    2.771  0.519 0.604  -3.993  6.868\n",
      "time[T.end]                                 29.187    2.771 10.534 0.000  23.757 34.618\n",
      "language[T.monolingual]                     -6.063    2.977 -2.036 0.042 -11.897 -0.228\n",
      "phase[T.pre-switch]:time[T.end]              4.625    3.200  1.446 0.148  -1.646 10.896\n",
      "phase[T.pre-switch]:language[T.monolingual]  4.375    3.200  1.367 0.172  -1.896 10.646\n",
      "time[T.end]:language[T.monolingual]         -7.375    3.200 -2.305 0.021 -13.646 -1.104\n",
      "child RE                                    11.851    0.989                            \n",
      "pair RE                                      3.297    0.819                            \n",
      "=======================================================================================\n",
      "\n"
     ]
    },
    {
     "name": "stderr",
     "output_type": "stream",
     "text": [
      "/usr/local/lib/python2.7/dist-packages/statsmodels-0.7.0-py2.7-linux-x86_64.egg/statsmodels/base/model.py:473: ConvergenceWarning: Maximum Likelihood optimization failed to converge. Check mle_retvals\n",
      "  \"Check mle_retvals\", ConvergenceWarning)\n",
      "/usr/local/lib/python2.7/dist-packages/statsmodels-0.7.0-py2.7-linux-x86_64.egg/statsmodels/regression/mixed_linear_model.py:1894: ConvergenceWarning: Gradient optimization failed.\n",
      "  warnings.warn(msg, ConvergenceWarning)\n"
     ]
    }
   ],
   "source": [
    "modelno3way = sm.MixedLM.from_formula('score ~  phase*time*language - phase:language:time', groups='pair', vc_formula=vcf, data=data)\n",
    "resultno3way = modelno3way.fit(reml=False)\n",
    "print (resultno3way.summary())"
   ]
  },
  {
   "cell_type": "code",
   "execution_count": 68,
   "metadata": {
    "collapsed": false
   },
   "outputs": [
    {
     "data": {
      "text/plain": [
       "(12.155308379806229, 0.00048948349354164796, 1)"
      ]
     },
     "execution_count": 68,
     "metadata": {},
     "output_type": "execute_result"
    }
   ],
   "source": [
    "result.compare_lr_test(resultno3way)"
   ]
  },
  {
   "cell_type": "code",
   "execution_count": 69,
   "metadata": {
    "collapsed": false
   },
   "outputs": [
    {
     "data": {
      "text/plain": [
       "Data: data\n",
       "Models:\n",
       "fitno3way: score ~ phase + time + language + (1 | pair) + (1 | child) + \n",
       "fitno3way:     phase:time + phase:language + time:language\n",
       "fit: score ~ phase * time * language + (1 | pair) + (1 | child)\n",
       "          Df    AIC    BIC  logLik deviance  Chisq Chi Df Pr(>Chisq)    \n",
       "fitno3way 10 1232.1 1262.8 -606.04   1212.1                             \n",
       "fit       11 1223.0 1256.8 -600.47   1201.0 11.123      1  0.0008527 ***\n",
       "---\n",
       "Signif. codes:  0 ‘***’ 0.001 ‘**’ 0.01 ‘*’ 0.05 ‘.’ 0.1 ‘ ’ 1\n"
      ]
     },
     "metadata": {},
     "output_type": "display_data"
    }
   ],
   "source": [
    "%R print(anova(fit, fitno3way))\n"
   ]
  },
  {
   "cell_type": "code",
   "execution_count": 71,
   "metadata": {
    "collapsed": false
   },
   "outputs": [
    {
     "data": {
      "text/plain": [
       "<DataFrame - Python:0x7feb322a2908 / R:0xa9e2608>\n",
       "[IntVe..., IntVe..., IntVe..., ..., IntVe..., IntVe..., IntVe...]\n",
       "  sex: <class 'rpy2.robjects.vectors.IntVector'>\n",
       "  <IntVector - Python:0x7feb322e2c68 / R:0xacb6d00>\n",
       "[       1,        0,        1, ...,        0,        0,        1]\n",
       "  minority: <class 'rpy2.robjects.vectors.IntVector'>\n",
       "  <IntVector - Python:0x7feb322a8170 / R:0xacb7fd0>\n",
       "[       1,        1,        1, ...,        0,        0,        0]\n",
       "  mathkind: <class 'rpy2.robjects.vectors.IntVector'>\n",
       "  <IntVector - Python:0x7feb322a8320 / R:0xacb92a0>\n",
       "[     448,      460,      511, ...,      485,      473,      453]\n",
       "  ...\n",
       "  sex: <class 'rpy2.robjects.vectors.IntVector'>\n",
       "  <IntVector - Python:0x7feb322a8248 / R:0xacc2860>\n",
       "[     160,      160,      160, ...,       96,      239,      239]\n",
       "  minority: <class 'rpy2.robjects.vectors.IntVector'>\n",
       "  <IntVector - Python:0x7feb322a81b8 / R:0xa3d04f0>\n",
       "[       1,        1,        1, ...,      107,      107,      107]\n",
       "  mathkind: <class 'rpy2.robjects.vectors.IntVector'>\n",
       "  <IntVector - Python:0x7feb322d9ab8 / R:0xa3d17c0>\n",
       "[       1,        2,        3, ...,     1188,     1189,     1190]"
      ]
     },
     "execution_count": 71,
     "metadata": {},
     "output_type": "execute_result"
    }
   ],
   "source": [
    "%R data <- read.csv('http://www-personal.umich.edu/~bwest/classroom.csv')\n"
   ]
  },
  {
   "cell_type": "code",
   "execution_count": 77,
   "metadata": {
    "collapsed": false
   },
   "outputs": [
    {
     "data": {
      "text/plain": [
       "Linear mixed model fit by maximum likelihood ['lmerMod']\n",
       "Formula: mathgain ~ 1 + (1 | schoolid) + (1 | classid) \n",
       "   Data: data \n",
       "\n",
       "      AIC       BIC    logLik  deviance \n",
       "11779.331 11799.658 -5885.666 11771.331 \n",
       "\n",
       "Random effects:\n",
       " Groups   Name        Variance Std.Dev.\n",
       " classid  (Intercept)   99.14   9.957  \n",
       " schoolid (Intercept)   75.38   8.682  \n",
       " Residual             1028.30  32.067  \n",
       "Number of obs: 1190, groups: classid, 312; schoolid, 107\n",
       "\n",
       "Fixed effects:\n",
       "            Estimate Std. Error t value\n",
       "(Intercept)   57.429      1.436      40\n"
      ]
     },
     "metadata": {},
     "output_type": "display_data"
    }
   ],
   "source": [
    "%R model <- lmer(mathgain ~ 1 + (1|schoolid) + (1|classid), REML=F, data=data)\n",
    "%R print(summary(model))"
   ]
  },
  {
   "cell_type": "code",
   "execution_count": 89,
   "metadata": {
    "collapsed": false
   },
   "outputs": [
    {
     "name": "stderr",
     "output_type": "stream",
     "text": [
      "/usr/local/lib/python2.7/dist-packages/statsmodels-0.7.0-py2.7-linux-x86_64.egg/statsmodels/base/model.py:473: ConvergenceWarning: Maximum Likelihood optimization failed to converge. Check mle_retvals\n",
      "  \"Check mle_retvals\", ConvergenceWarning)\n",
      "/usr/local/lib/python2.7/dist-packages/statsmodels-0.7.0-py2.7-linux-x86_64.egg/statsmodels/regression/mixed_linear_model.py:1894: ConvergenceWarning: Gradient optimization failed.\n",
      "  warnings.warn(msg, ConvergenceWarning)\n"
     ]
    },
    {
     "data": {
      "text/html": [
       "<table class=\"simpletable\">\n",
       "<tr>\n",
       "       <td>Model:</td>       <td>MixedLM</td> <td>Dependent Variable:</td>  <td>mathgain</td> \n",
       "</tr>\n",
       "<tr>\n",
       "  <td>No. Observations:</td>  <td>1190</td>         <td>Method:</td>           <td>ML</td>    \n",
       "</tr>\n",
       "<tr>\n",
       "     <td>No. Groups:</td>      <td>107</td>         <td>Scale:</td>         <td>979.8962</td> \n",
       "</tr>\n",
       "<tr>\n",
       "  <td>Min. group size:</td>     <td>2</td>        <td>Likelihood:</td>     <td>-5896.7160</td>\n",
       "</tr>\n",
       "<tr>\n",
       "  <td>Max. group size:</td>    <td>31</td>        <td>Converged:</td>          <td>No</td>    \n",
       "</tr>\n",
       "<tr>\n",
       "  <td>Mean group size:</td>   <td>11.1</td>            <td></td>                <td></td>     \n",
       "</tr>\n",
       "</table>\n",
       "<table class=\"simpletable\">\n",
       "<tr>\n",
       "       <td></td>        <th>Coef.</th>  <th>Std.Err.</th>    <th>z</th>   <th>P>|z|</th> <th>[0.025</th> <th>0.975]</th>\n",
       "</tr>\n",
       "<tr>\n",
       "  <th>Intercept</th>   <td>57.035</td>    <td>2.039</td>  <td>27.972</td> <td>0.000</td> <td>53.038</td> <td>61.031</td>\n",
       "</tr>\n",
       "<tr>\n",
       "  <th>classid RE</th>  <td>158.619</td>   <td>3.100</td>     <td></td>      <td></td>       <td></td>       <td></td>   \n",
       "</tr>\n",
       "<tr>\n",
       "  <th>schoolid RE</th> <td>138.106</td>  <td>10.065</td>     <td></td>      <td></td>       <td></td>       <td></td>   \n",
       "</tr>\n",
       "</table>"
      ],
      "text/plain": [
       "<class 'statsmodels.iolib.summary2.Summary'>\n",
       "\"\"\"\n",
       "          Mixed Linear Model Regression Results\n",
       "========================================================\n",
       "Model:            MixedLM Dependent Variable: mathgain  \n",
       "No. Observations: 1190    Method:             ML        \n",
       "No. Groups:       107     Scale:              979.8962  \n",
       "Min. group size:  2       Likelihood:         -5896.7160\n",
       "Max. group size:  31      Converged:          No        \n",
       "Mean group size:  11.1                                  \n",
       "--------------------------------------------------------\n",
       "              Coef.  Std.Err.   z    P>|z| [0.025 0.975]\n",
       "--------------------------------------------------------\n",
       "Intercept     57.035    2.039 27.972 0.000 53.038 61.031\n",
       "classid RE   158.619    3.100                           \n",
       "schoolid RE  138.106   10.065                           \n",
       "========================================================\n",
       "\n",
       "\"\"\""
      ]
     },
     "execution_count": 89,
     "metadata": {},
     "output_type": "execute_result"
    }
   ],
   "source": [
    "data = pandas.read_csv('http://www-personal.umich.edu/~bwest/classroom.csv')\n",
    "vcf = {\"schoolid\" : \"1 + C(schoolid)\", \"classid\" : \"1 + C(classid)\"}\n",
    "\n",
    "model = sm.MixedLM.from_formula('mathgain ~ 1', groups=\"schoolid\", vc_formula=vcf,  data=data)\n",
    "result = model.fit(reml=False)\n",
    "result.summary()"
   ]
  },
  {
   "cell_type": "code",
   "execution_count": 76,
   "metadata": {
    "collapsed": false
   },
   "outputs": [
    {
     "data": {
      "text/plain": [
       "Linear mixed model fit by maximum likelihood ['lmerMod']\n",
       "Formula: mathgain ~ mathkind + sex + minority + ses + (1 | schoolid) +      (1 | classid) \n",
       "   Data: data \n",
       "\n",
       "      AIC       BIC    logLik  deviance \n",
       "11406.963 11447.617 -5695.481 11390.963 \n",
       "\n",
       "Random effects:\n",
       " Groups   Name        Variance Std.Dev.\n",
       " classid  (Intercept)  83.20    9.122  \n",
       " schoolid (Intercept)  72.67    8.524  \n",
       " Residual             732.19   27.059  \n",
       "Number of obs: 1190, groups: classid, 312; schoolid, 107\n",
       "\n",
       "Fixed effects:\n",
       "             Estimate Std. Error t value\n",
       "(Intercept) 282.71600   10.82832  26.109\n",
       "mathkind     -0.46965    0.02222 -21.139\n",
       "sex          -1.24898    1.65469  -0.755\n",
       "minority     -8.25670    2.33081  -3.542\n",
       "ses           5.34235    1.23840   4.314\n",
       "\n",
       "Correlation of Fixed Effects:\n",
       "         (Intr) mthknd sex    minrty\n",
       "mathkind -0.978                     \n",
       "sex      -0.044 -0.032              \n",
       "minority -0.307  0.164 -0.018       \n",
       "ses       0.140 -0.169  0.019  0.164\n"
      ]
     },
     "metadata": {},
     "output_type": "display_data"
    }
   ],
   "source": [
    "%R model2 <- lmer(mathgain ~ mathkind + sex + minority + ses +(1|schoolid) + (1|classid), data=data, REML = F)\n",
    "%R print(summary(model2))"
   ]
  },
  {
   "cell_type": "code",
   "execution_count": 84,
   "metadata": {
    "collapsed": false,
    "scrolled": true
   },
   "outputs": [
    {
     "name": "stderr",
     "output_type": "stream",
     "text": [
      "/usr/local/lib/python2.7/dist-packages/statsmodels-0.7.0-py2.7-linux-x86_64.egg/statsmodels/base/model.py:473: ConvergenceWarning: Maximum Likelihood optimization failed to converge. Check mle_retvals\n",
      "  \"Check mle_retvals\", ConvergenceWarning)\n",
      "/usr/local/lib/python2.7/dist-packages/statsmodels-0.7.0-py2.7-linux-x86_64.egg/statsmodels/regression/mixed_linear_model.py:1894: ConvergenceWarning: Gradient optimization failed.\n",
      "  warnings.warn(msg, ConvergenceWarning)\n"
     ]
    },
    {
     "data": {
      "text/html": [
       "<table class=\"simpletable\">\n",
       "<tr>\n",
       "       <td>Model:</td>       <td>MixedLM</td> <td>Dependent Variable:</td>  <td>mathgain</td> \n",
       "</tr>\n",
       "<tr>\n",
       "  <td>No. Observations:</td>  <td>1190</td>         <td>Method:</td>           <td>ML</td>    \n",
       "</tr>\n",
       "<tr>\n",
       "     <td>No. Groups:</td>      <td>107</td>         <td>Scale:</td>         <td>705.5015</td> \n",
       "</tr>\n",
       "<tr>\n",
       "  <td>Min. group size:</td>     <td>2</td>        <td>Likelihood:</td>     <td>-5706.8950</td>\n",
       "</tr>\n",
       "<tr>\n",
       "  <td>Max. group size:</td>    <td>31</td>        <td>Converged:</td>          <td>No</td>    \n",
       "</tr>\n",
       "<tr>\n",
       "  <td>Mean group size:</td>   <td>11.1</td>            <td></td>                <td></td>     \n",
       "</tr>\n",
       "</table>\n",
       "<table class=\"simpletable\">\n",
       "<tr>\n",
       "       <td></td>        <th>Coef.</th>  <th>Std.Err.</th>    <th>z</th>    <th>P>|z|</th> <th>[0.025</th>  <th>0.975]</th> \n",
       "</tr>\n",
       "<tr>\n",
       "  <th>Intercept</th>   <td>283.698</td>  <td>11.022</td>  <td>25.740</td>  <td>0.000</td> <td>262.095</td> <td>305.300</td>\n",
       "</tr>\n",
       "<tr>\n",
       "  <th>mathkind</th>    <td>-0.473</td>    <td>0.023</td>  <td>-21.021</td> <td>0.000</td> <td>-0.517</td>  <td>-0.429</td> \n",
       "</tr>\n",
       "<tr>\n",
       "  <th>sex</th>         <td>-1.408</td>    <td>1.641</td>  <td>-0.858</td>  <td>0.391</td> <td>-4.625</td>   <td>1.809</td> \n",
       "</tr>\n",
       "<tr>\n",
       "  <th>minority</th>    <td>-7.851</td>    <td>2.521</td>  <td>-3.114</td>  <td>0.002</td> <td>-12.793</td> <td>-2.909</td> \n",
       "</tr>\n",
       "<tr>\n",
       "  <th>ses</th>          <td>5.542</td>    <td>1.245</td>   <td>4.450</td>  <td>0.000</td>  <td>3.101</td>   <td>7.983</td> \n",
       "</tr>\n",
       "<tr>\n",
       "  <th>classid RE</th>  <td>127.421</td>   <td>2.168</td>     <td></td>       <td></td>       <td></td>        <td></td>    \n",
       "</tr>\n",
       "<tr>\n",
       "  <th>schoolid RE</th> <td>100.458</td>   <td>4.562</td>     <td></td>       <td></td>       <td></td>        <td></td>    \n",
       "</tr>\n",
       "</table>"
      ],
      "text/plain": [
       "<class 'statsmodels.iolib.summary2.Summary'>\n",
       "\"\"\"\n",
       "           Mixed Linear Model Regression Results\n",
       "==========================================================\n",
       "Model:              MixedLM Dependent Variable: mathgain  \n",
       "No. Observations:   1190    Method:             ML        \n",
       "No. Groups:         107     Scale:              705.5015  \n",
       "Min. group size:    2       Likelihood:         -5706.8950\n",
       "Max. group size:    31      Converged:          No        \n",
       "Mean group size:    11.1                                  \n",
       "----------------------------------------------------------\n",
       "             Coef.  Std.Err.    z    P>|z|  [0.025  0.975]\n",
       "----------------------------------------------------------\n",
       "Intercept   283.698   11.022  25.740 0.000 262.095 305.300\n",
       "mathkind     -0.473    0.023 -21.021 0.000  -0.517  -0.429\n",
       "sex          -1.408    1.641  -0.858 0.391  -4.625   1.809\n",
       "minority     -7.851    2.521  -3.114 0.002 -12.793  -2.909\n",
       "ses           5.542    1.245   4.450 0.000   3.101   7.983\n",
       "classid RE  127.421    2.168                              \n",
       "schoolid RE 100.458    4.562                              \n",
       "==========================================================\n",
       "\n",
       "\"\"\""
      ]
     },
     "execution_count": 84,
     "metadata": {},
     "output_type": "execute_result"
    }
   ],
   "source": [
    "data = pandas.read_csv('http://www-personal.umich.edu/~bwest/classroom.csv')\n",
    "vcf = {\"schoolid\" : \"1 + C(schoolid)\", \"classid\" : \"1 + C(classid)\"}\n",
    "\n",
    "model2 = sm.MixedLM.from_formula('mathgain ~ mathkind + sex + minority + ses', groups=\"schoolid\", vc_formula=vcf,  data=data)\n",
    "result2 = model2.fit(reml=False)\n",
    "result2.summary()"
   ]
  },
  {
   "cell_type": "code",
   "execution_count": 82,
   "metadata": {
    "collapsed": false
   },
   "outputs": [
    {
     "data": {
      "text/plain": [
       "Data: data\n",
       "Models:\n",
       "model: mathgain ~ 1 + (1 | schoolid) + (1 | classid)\n",
       "model2: mathgain ~ mathkind + sex + minority + ses + (1 | schoolid) + \n",
       "model2:     (1 | classid)\n",
       "       Df   AIC   BIC  logLik deviance  Chisq Chi Df Pr(>Chisq)    \n",
       "model   4 11779 11800 -5885.7    11771                             \n",
       "model2  8 11407 11448 -5695.5    11391 380.37      4  < 2.2e-16 ***\n",
       "---\n",
       "Signif. codes:  0 ‘***’ 0.001 ‘**’ 0.01 ‘*’ 0.05 ‘.’ 0.1 ‘ ’ 1\n"
      ]
     },
     "metadata": {},
     "output_type": "display_data"
    }
   ],
   "source": [
    "%R print(anova(model,model2))"
   ]
  },
  {
   "cell_type": "code",
   "execution_count": 92,
   "metadata": {
    "collapsed": false
   },
   "outputs": [
    {
     "data": {
      "text/plain": [
       "(379.6420747898228, 6.9566020882618349e-81, 4)"
      ]
     },
     "execution_count": 92,
     "metadata": {},
     "output_type": "execute_result"
    }
   ],
   "source": [
    "result2.compare_lr_test(result)"
   ]
  }
 ],
 "metadata": {
  "kernelspec": {
   "display_name": "Python 2",
   "language": "python",
   "name": "python2"
  },
  "language_info": {
   "codemirror_mode": {
    "name": "ipython",
    "version": 2
   },
   "file_extension": ".py",
   "mimetype": "text/x-python",
   "name": "python",
   "nbconvert_exporter": "python",
   "pygments_lexer": "ipython2",
   "version": "2.7.6"
  }
 },
 "nbformat": 4,
 "nbformat_minor": 0
}

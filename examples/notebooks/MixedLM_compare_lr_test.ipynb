{
 "cells": [
  {
   "cell_type": "code",
   "execution_count": 1,
   "metadata": {
    "collapsed": true
   },
   "outputs": [],
   "source": [
    "import numpy as np\n",
    "import statsmodels.api as sm\n",
    "import statsmodels.formula.api as smf\n",
    "import pandas\n"
   ]
  },
  {
   "cell_type": "code",
   "execution_count": 3,
   "metadata": {
    "collapsed": false
   },
   "outputs": [
    {
     "data": {
      "text/plain": [
       "Loading required package: lattice\n",
       "Loading required package: Matrix\n"
      ]
     },
     "metadata": {},
     "output_type": "display_data"
    }
   ],
   "source": [
    "%load_ext rpy2.ipython\n",
    "%R library(lme4)"
   ]
  },
  {
   "cell_type": "code",
   "execution_count": 55,
   "metadata": {
    "collapsed": false
   },
   "outputs": [
    {
     "data": {
      "text/plain": [
       "Linear mixed model fit by maximum likelihood ['lmerMod']\n",
       "Formula: logdtf ~ (1 | subspecies) + (1 | inventoryID) \n",
       "   Data: data \n",
       "\n",
       "      AIC       BIC    logLik  deviance \n",
       "-118.0267 -106.4653   63.0134 -126.0267 \n",
       "\n",
       "Random effects:\n",
       " Groups      Name        Variance Std.Dev.\n",
       " inventoryID (Intercept) 0.033431 0.1828  \n",
       " subspecies  (Intercept) 0.094382 0.3072  \n",
       " Residual                0.009644 0.0982  \n",
       "Number of obs: 133, groups: inventoryID, 36; subspecies, 9\n",
       "\n",
       "Fixed effects:\n",
       "            Estimate Std. Error t value\n",
       "(Intercept)   3.9756     0.1092   36.42\n"
      ]
     },
     "metadata": {},
     "output_type": "display_data"
    }
   ],
   "source": [
    "%R data <- read.csv('http://www.stat.wisc.edu/~ane/st572/data/floweringTime.txt', sep='\\t')\n",
    "%R data <- subset(data, !is.na(dtf))\n",
    "%R data$logdtf <- log(data$dtf)\n",
    "%R fit <- lmer(logdtf ~ (1|subspecies)+(1|inventoryID), data=data, REML=F)\n",
    "%R print(summary(fit))\n"
   ]
  },
  {
   "cell_type": "code",
   "execution_count": 56,
   "metadata": {
    "collapsed": false
   },
   "outputs": [
    {
     "data": {
      "text/html": [
       "<table class=\"simpletable\">\n",
       "<tr>\n",
       "       <td>Model:</td>       <td>MixedLM</td> <td>Dependent Variable:</td> <td>logdtf</td> \n",
       "</tr>\n",
       "<tr>\n",
       "  <td>No. Observations:</td>   <td>133</td>         <td>Method:</td>         <td>ML</td>   \n",
       "</tr>\n",
       "<tr>\n",
       "     <td>No. Groups:</td>       <td>9</td>          <td>Scale:</td>        <td>0.0096</td> \n",
       "</tr>\n",
       "<tr>\n",
       "  <td>Min. group size:</td>     <td>4</td>        <td>Likelihood:</td>     <td>63.0134</td>\n",
       "</tr>\n",
       "<tr>\n",
       "  <td>Max. group size:</td>    <td>32</td>        <td>Converged:</td>        <td>Yes</td>  \n",
       "</tr>\n",
       "<tr>\n",
       "  <td>Mean group size:</td>   <td>14.8</td>            <td></td>              <td></td>    \n",
       "</tr>\n",
       "</table>\n",
       "<table class=\"simpletable\">\n",
       "<tr>\n",
       "         <td></td>        <th>Coef.</th> <th>Std.Err.</th>    <th>z</th>   <th>P>|z|</th> <th>[0.025</th> <th>0.975]</th>\n",
       "</tr>\n",
       "<tr>\n",
       "  <th>Intercept</th>      <td>3.976</td>   <td>0.109</td>  <td>36.415</td> <td>0.000</td>  <td>3.762</td>  <td>4.190</td>\n",
       "</tr>\n",
       "<tr>\n",
       "  <th>inventoryID RE</th> <td>0.033</td>   <td>0.114</td>     <td></td>      <td></td>       <td></td>       <td></td>   \n",
       "</tr>\n",
       "<tr>\n",
       "  <th>subspecies RE</th>  <td>0.094</td>   <td>0.554</td>     <td></td>      <td></td>       <td></td>       <td></td>   \n",
       "</tr>\n",
       "</table>"
      ],
      "text/plain": [
       "<class 'statsmodels.iolib.summary2.Summary'>\n",
       "\"\"\"\n",
       "          Mixed Linear Model Regression Results\n",
       "========================================================\n",
       "Model:             MixedLM  Dependent Variable:  logdtf \n",
       "No. Observations:  133      Method:              ML     \n",
       "No. Groups:        9        Scale:               0.0096 \n",
       "Min. group size:   4        Likelihood:          63.0134\n",
       "Max. group size:   32       Converged:           Yes    \n",
       "Mean group size:   14.8                                 \n",
       "--------------------------------------------------------\n",
       "               Coef. Std.Err.   z    P>|z| [0.025 0.975]\n",
       "--------------------------------------------------------\n",
       "Intercept      3.976    0.109 36.415 0.000  3.762  4.190\n",
       "inventoryID RE 0.033    0.114                           \n",
       "subspecies RE  0.094    0.554                           \n",
       "========================================================\n",
       "\n",
       "\"\"\""
      ]
     },
     "execution_count": 56,
     "metadata": {},
     "output_type": "execute_result"
    }
   ],
   "source": [
    "data = pandas.read_csv('http://www.stat.wisc.edu/~ane/st572/data/floweringTime.txt', delimiter='\\t', index_col=0)\n",
    "data = data.dropna()\n",
    "data['logdtf'] = np.log(data['dtf'])\n",
    "vcf = {\"subspecies\" : \"0 + C(subspecies)\", \"inventoryID\" : \"0 + C(inventoryID)\"}\n",
    "\n",
    "model = sm.MixedLM.from_formula('logdtf ~ 1', groups=\"subspecies\", vc_formula=vcf,  data=data)\n",
    "result = model.fit(reml=False)\n",
    "result.summary()"
   ]
  },
  {
   "cell_type": "code",
   "execution_count": 57,
   "metadata": {
    "collapsed": false
   },
   "outputs": [
    {
     "data": {
      "text/plain": [
       "Linear mixed model fit by maximum likelihood ['lmerMod']\n",
       "Formula: logdtf ~ (1 | subspecies) \n",
       "   Data: data \n",
       "\n",
       "     AIC      BIC   logLik deviance \n",
       "-23.3853 -14.7142  14.6926 -29.3853 \n",
       "\n",
       "Random effects:\n",
       " Groups     Name        Variance Std.Dev.\n",
       " subspecies (Intercept) 0.10092  0.3177  \n",
       " Residual               0.03709  0.1926  \n",
       "Number of obs: 133, groups: subspecies, 9\n",
       "\n",
       "Fixed effects:\n",
       "            Estimate Std. Error t value\n",
       "(Intercept)    3.959      0.108   36.66\n"
      ]
     },
     "metadata": {},
     "output_type": "display_data"
    }
   ],
   "source": [
    "%R fit.noinventory <- update(fit, .~.- (1|inventoryID))\n",
    "%R print(summary(fit.noinventory))\n"
   ]
  },
  {
   "cell_type": "code",
   "execution_count": 58,
   "metadata": {
    "collapsed": false
   },
   "outputs": [
    {
     "data": {
      "text/html": [
       "<table class=\"simpletable\">\n",
       "<tr>\n",
       "       <td>Model:</td>       <td>MixedLM</td> <td>Dependent Variable:</td> <td>logdtf</td> \n",
       "</tr>\n",
       "<tr>\n",
       "  <td>No. Observations:</td>   <td>133</td>         <td>Method:</td>         <td>ML</td>   \n",
       "</tr>\n",
       "<tr>\n",
       "     <td>No. Groups:</td>       <td>9</td>          <td>Scale:</td>        <td>0.0371</td> \n",
       "</tr>\n",
       "<tr>\n",
       "  <td>Min. group size:</td>     <td>4</td>        <td>Likelihood:</td>     <td>14.6926</td>\n",
       "</tr>\n",
       "<tr>\n",
       "  <td>Max. group size:</td>    <td>32</td>        <td>Converged:</td>        <td>Yes</td>  \n",
       "</tr>\n",
       "<tr>\n",
       "  <td>Mean group size:</td>   <td>14.8</td>            <td></td>              <td></td>    \n",
       "</tr>\n",
       "</table>\n",
       "<table class=\"simpletable\">\n",
       "<tr>\n",
       "        <td></td>        <th>Coef.</th> <th>Std.Err.</th>    <th>z</th>   <th>P>|z|</th> <th>[0.025</th> <th>0.975]</th>\n",
       "</tr>\n",
       "<tr>\n",
       "  <th>Intercept</th>     <td>3.959</td>   <td>0.108</td>  <td>36.658</td> <td>0.000</td>  <td>3.747</td>  <td>4.171</td>\n",
       "</tr>\n",
       "<tr>\n",
       "  <th>subspecies RE</th> <td>0.101</td>   <td>0.270</td>     <td></td>      <td></td>       <td></td>       <td></td>   \n",
       "</tr>\n",
       "</table>"
      ],
      "text/plain": [
       "<class 'statsmodels.iolib.summary2.Summary'>\n",
       "\"\"\"\n",
       "         Mixed Linear Model Regression Results\n",
       "=======================================================\n",
       "Model:              MixedLM Dependent Variable: logdtf \n",
       "No. Observations:   133     Method:             ML     \n",
       "No. Groups:         9       Scale:              0.0371 \n",
       "Min. group size:    4       Likelihood:         14.6926\n",
       "Max. group size:    32      Converged:          Yes    \n",
       "Mean group size:    14.8                               \n",
       "-------------------------------------------------------\n",
       "              Coef. Std.Err.   z    P>|z| [0.025 0.975]\n",
       "-------------------------------------------------------\n",
       "Intercept     3.959    0.108 36.658 0.000  3.747  4.171\n",
       "subspecies RE 0.101    0.270                           \n",
       "=======================================================\n",
       "\n",
       "\"\"\""
      ]
     },
     "execution_count": 58,
     "metadata": {},
     "output_type": "execute_result"
    }
   ],
   "source": [
    "#data = pandas.read_csv('http://www.stat.wisc.edu/~ane/st572/data/floweringTime.txt', delimiter='\\t', index_col=0)\n",
    "#data = data.dropna()\n",
    "#data['logdtf'] = np.log(data['dtf'])\n",
    "vcf = {\"subspecies\" : \"1 + C(subspecies)\"}\n",
    "model_noinventory = sm.MixedLM.from_formula('logdtf ~ 1', groups=\"subspecies\",  vc_formula=vcf, data=data)\n",
    "result_noinventory = model_noinventory.fit(reml=False)\n",
    "result_noinventory.summary()"
   ]
  },
  {
   "cell_type": "code",
   "execution_count": 59,
   "metadata": {
    "collapsed": false
   },
   "outputs": [
    {
     "data": {
      "text/plain": [
       "Data: data\n",
       "Models:\n",
       "fit.noinventory: logdtf ~ (1 | subspecies)\n",
       "fit: logdtf ~ (1 | subspecies) + (1 | inventoryID)\n",
       "                Df      AIC      BIC logLik deviance  Chisq Chi Df Pr(>Chisq)\n",
       "fit.noinventory  3  -23.385  -14.714 14.693  -29.385                         \n",
       "fit              4 -118.027 -106.465 63.013 -126.027 96.641      1  < 2.2e-16\n",
       "                   \n",
       "fit.noinventory    \n",
       "fit             ***\n",
       "---\n",
       "Signif. codes:  0 ‘***’ 0.001 ‘**’ 0.01 ‘*’ 0.05 ‘.’ 0.1 ‘ ’ 1\n"
      ]
     },
     "metadata": {},
     "output_type": "display_data"
    }
   ],
   "source": [
    "%R print(anova(fit, fit.noinventory))"
   ]
  },
  {
   "cell_type": "code",
   "execution_count": 61,
   "metadata": {
    "collapsed": false,
    "scrolled": true
   },
   "outputs": [
    {
     "data": {
      "text/plain": [
       "(96.641440352655081, 8.3090825662073875e-23, 1)"
      ]
     },
     "execution_count": 61,
     "metadata": {},
     "output_type": "execute_result"
    }
   ],
   "source": [
    "result.compare_lr_test(result_noinventory)\n"
   ]
  },
  {
   "cell_type": "code",
   "execution_count": 64,
   "metadata": {
    "collapsed": false
   },
   "outputs": [
    {
     "data": {
      "text/plain": [
       "Linear mixed model fit by REML ['lmerMod']\n",
       "Formula: score ~ phase * time * language + (1 | pair) + (1 | child) \n",
       "   Data: data \n",
       "\n",
       "REML criterion at convergence: 1172.664 \n",
       "\n",
       "Random effects:\n",
       " Groups   Name        Variance Std.Dev.\n",
       " child    (Intercept) 26.58    5.155   \n",
       " pair     (Intercept)  0.00    0.000   \n",
       " Residual             92.59    9.622   \n",
       "Number of obs: 160, groups: child, 40; pair, 20\n",
       "\n",
       "Fixed effects:\n",
       "                                            Estimate Std. Error t value\n",
       "(Intercept)                                   24.000      2.441   9.832\n",
       "phasepre-switch                                6.500      3.043   2.136\n",
       "timeend                                       34.250      3.043  11.256\n",
       "languagemonolingual                           -1.000      3.452  -0.290\n",
       "phasepre-switch:timeend                       -5.500      4.303  -1.278\n",
       "phasepre-switch:languagemonolingual           -5.750      4.303  -1.336\n",
       "timeend:languagemonolingual                  -17.500      4.303  -4.067\n",
       "phasepre-switch:timeend:languagemonolingual   20.250      6.086   3.327\n",
       "\n",
       "Correlation of Fixed Effects:\n",
       "              (Intr) phspr- timend lnggmn phspr-swtch:t phspr-swtch:l tmnd:l\n",
       "phspr-swtch   -0.623                                                        \n",
       "timeend       -0.623  0.500                                                 \n",
       "langgmnlngl   -0.707  0.441  0.441                                          \n",
       "phspr-swtch:t  0.441 -0.707 -0.707 -0.312                                   \n",
       "phspr-swtch:l  0.441 -0.707 -0.354 -0.623  0.500                            \n",
       "tmnd:lnggmn    0.441 -0.354 -0.707 -0.623  0.500         0.500              \n",
       "phspr-swt::   -0.312  0.500  0.500  0.441 -0.707        -0.707        -0.707\n"
      ]
     },
     "metadata": {},
     "output_type": "display_data"
    }
   ],
   "source": [
    "%R data <- read.table('http://www.stat.wisc.edu/~ane/st572/data/bilingual.txt', header=T)\n",
    "%R fit = lmer(score ~ phase * time * language + (1|pair) + (1|child), data=data)\n",
    "%R print(summary(fit))"
   ]
  },
  {
   "cell_type": "code",
   "execution_count": 65,
   "metadata": {
    "collapsed": false
   },
   "outputs": [
    {
     "name": "stdout",
     "output_type": "stream",
     "text": [
      "                                Mixed Linear Model Regression Results\n",
      "====================================================================================================\n",
      "Model:                           MixedLM                Dependent Variable:                score    \n",
      "No. Observations:                160                    Method:                            ML       \n",
      "No. Groups:                      20                     Scale:                             87.9608  \n",
      "Min. group size:                 8                      Likelihood:                        -600.4745\n",
      "Max. group size:                 8                      Converged:                         Yes      \n",
      "Mean group size:                 8.0                                                                \n",
      "----------------------------------------------------------------------------------------------------\n",
      "                                                         Coef.  Std.Err.   z    P>|z|  [0.025 0.975]\n",
      "----------------------------------------------------------------------------------------------------\n",
      "Intercept                                                24.000    2.379 10.087 0.000  19.337 28.663\n",
      "phase[T.pre-switch]                                       6.500    2.966  2.192 0.028   0.687 12.313\n",
      "time[T.end]                                              34.250    2.966 11.548 0.000  28.437 40.063\n",
      "language[T.monolingual]                                  -1.000    3.365 -0.297 0.766  -7.595  5.595\n",
      "phase[T.pre-switch]:time[T.end]                          -5.500    4.194 -1.311 0.190 -13.721  2.721\n",
      "phase[T.pre-switch]:language[T.monolingual]              -5.750    4.194 -1.371 0.170 -13.971  2.471\n",
      "time[T.end]:language[T.monolingual]                     -17.500    4.194 -4.172 0.000 -25.721 -9.279\n",
      "phase[T.pre-switch]:time[T.end]:language[T.monolingual]  20.250    5.932  3.414 0.001   8.624 31.876\n",
      "child RE                                                 25.250    1.639                            \n",
      "pair RE                                                   0.000    1.133                            \n",
      "====================================================================================================\n",
      "\n"
     ]
    },
    {
     "name": "stderr",
     "output_type": "stream",
     "text": [
      "/usr/local/lib/python2.7/dist-packages/statsmodels-0.7.0-py2.7-linux-x86_64.egg/statsmodels/regression/mixed_linear_model.py:1912: ConvergenceWarning: The MLE may be on the boundary of the parameter space.\n",
      "  warnings.warn(msg, ConvergenceWarning)\n"
     ]
    }
   ],
   "source": [
    "data = pandas.read_table('bilingual.txt', skipinitialspace=True)\n",
    "vcf = {\"pair\" : \"0 + C(pair)\", \"child\" : \"0 + C(child)\"}\n",
    "model = sm.MixedLM.from_formula('score ~  phase*time*language', groups='pair', vc_formula=vcf, data=data)\n",
    "result = model.fit(reml=False)\n",
    "print (result.summary())"
   ]
  },
  {
   "cell_type": "code",
   "execution_count": 66,
   "metadata": {
    "collapsed": false
   },
   "outputs": [
    {
     "data": {
      "text/plain": [
       "Linear mixed model fit by REML ['lmerMod']\n",
       "Formula: score ~ phase + time + language + (1 | pair) + (1 | child) +      phase:time + phase:language + time:language \n",
       "   Data: data \n",
       "\n",
       "REML criterion at convergence: 1188.769 \n",
       "\n",
       "Random effects:\n",
       " Groups   Name        Variance Std.Dev.\n",
       " child    (Intercept)  24.55    4.955  \n",
       " pair     (Intercept)   0.00    0.000  \n",
       " Residual             100.70   10.035  \n",
       "Number of obs: 160, groups: child, 40; pair, 20\n",
       "\n",
       "Fixed effects:\n",
       "                                    Estimate Std. Error t value\n",
       "(Intercept)                           26.531      2.373  11.178\n",
       "phasepre-switch                        1.437      2.748   0.523\n",
       "timeend                               29.187      2.748  10.621\n",
       "languagemonolingual                   -6.063      3.163  -1.916\n",
       "phasepre-switch:timeend                4.625      3.173   1.457\n",
       "phasepre-switch:languagemonolingual    4.375      3.173   1.379\n",
       "timeend:languagemonolingual           -7.375      3.173  -2.324\n",
       "\n",
       "Correlation of Fixed Effects:\n",
       "              (Intr) phspr- timend lnggmn phspr-swtch:t phspr-swtch:l\n",
       "phspr-swtch   -0.579                                                 \n",
       "timeend       -0.579  0.333                                          \n",
       "langgmnlngl   -0.666  0.290  0.290                                   \n",
       "phspr-swtch:t  0.334 -0.577 -0.577  0.000                            \n",
       "phspr-swtch:l  0.334 -0.577  0.000 -0.502  0.000                     \n",
       "tmnd:lnggmn    0.334  0.000 -0.577 -0.502  0.000         0.000       \n"
      ]
     },
     "metadata": {},
     "output_type": "display_data"
    }
   ],
   "source": [
    "#%R fitno3way = lmer(score ~ (1|pair) + (1|child), data=data)\n",
    "%R fitno3way <- update(fit, .~. - phase:time:language)\n",
    "%R print(summary(fitno3way))\n"
   ]
  },
  {
   "cell_type": "code",
   "execution_count": 67,
   "metadata": {
    "collapsed": false
   },
   "outputs": [
    {
     "name": "stdout",
     "output_type": "stream",
     "text": [
      "                         Mixed Linear Model Regression Results\n",
      "=======================================================================================\n",
      "Model:                        MixedLM           Dependent Variable:           score    \n",
      "No. Observations:             160               Method:                       ML       \n",
      "No. Groups:                   20                Scale:                        102.3728 \n",
      "Min. group size:              8                 Likelihood:                   -606.5522\n",
      "Max. group size:              8                 Converged:                    No       \n",
      "Mean group size:              8.0                                                      \n",
      "---------------------------------------------------------------------------------------\n",
      "                                            Coef.  Std.Err.   z    P>|z|  [0.025 0.975]\n",
      "---------------------------------------------------------------------------------------\n",
      "Intercept                                   26.531    2.288 11.594 0.000  22.046 31.016\n",
      "phase[T.pre-switch]                          1.437    2.771  0.519 0.604  -3.993  6.868\n",
      "time[T.end]                                 29.187    2.771 10.534 0.000  23.757 34.618\n",
      "language[T.monolingual]                     -6.063    2.977 -2.036 0.042 -11.897 -0.228\n",
      "phase[T.pre-switch]:time[T.end]              4.625    3.200  1.446 0.148  -1.646 10.896\n",
      "phase[T.pre-switch]:language[T.monolingual]  4.375    3.200  1.367 0.172  -1.896 10.646\n",
      "time[T.end]:language[T.monolingual]         -7.375    3.200 -2.305 0.021 -13.646 -1.104\n",
      "child RE                                    11.851    0.989                            \n",
      "pair RE                                      3.297    0.819                            \n",
      "=======================================================================================\n",
      "\n"
     ]
    },
    {
     "name": "stderr",
     "output_type": "stream",
     "text": [
      "/usr/local/lib/python2.7/dist-packages/statsmodels-0.7.0-py2.7-linux-x86_64.egg/statsmodels/base/model.py:473: ConvergenceWarning: Maximum Likelihood optimization failed to converge. Check mle_retvals\n",
      "  \"Check mle_retvals\", ConvergenceWarning)\n",
      "/usr/local/lib/python2.7/dist-packages/statsmodels-0.7.0-py2.7-linux-x86_64.egg/statsmodels/regression/mixed_linear_model.py:1894: ConvergenceWarning: Gradient optimization failed.\n",
      "  warnings.warn(msg, ConvergenceWarning)\n"
     ]
    }
   ],
   "source": [
    "modelno3way = sm.MixedLM.from_formula('score ~  phase*time*language - phase:language:time', groups='pair', vc_formula=vcf, data=data)\n",
    "resultno3way = modelno3way.fit(reml=False)\n",
    "print (resultno3way.summary())"
   ]
  },
  {
   "cell_type": "code",
   "execution_count": 68,
   "metadata": {
    "collapsed": false
   },
   "outputs": [
    {
     "data": {
      "text/plain": [
       "(12.155308379806229, 0.00048948349354164796, 1)"
      ]
     },
     "execution_count": 68,
     "metadata": {},
     "output_type": "execute_result"
    }
   ],
   "source": [
    "result.compare_lr_test(resultno3way)"
   ]
  },
  {
   "cell_type": "code",
   "execution_count": 69,
   "metadata": {
    "collapsed": false
   },
   "outputs": [
    {
     "data": {
      "text/plain": [
       "Data: data\n",
       "Models:\n",
       "fitno3way: score ~ phase + time + language + (1 | pair) + (1 | child) + \n",
       "fitno3way:     phase:time + phase:language + time:language\n",
       "fit: score ~ phase * time * language + (1 | pair) + (1 | child)\n",
       "          Df    AIC    BIC  logLik deviance  Chisq Chi Df Pr(>Chisq)    \n",
       "fitno3way 10 1232.1 1262.8 -606.04   1212.1                             \n",
       "fit       11 1223.0 1256.8 -600.47   1201.0 11.123      1  0.0008527 ***\n",
       "---\n",
       "Signif. codes:  0 ‘***’ 0.001 ‘**’ 0.01 ‘*’ 0.05 ‘.’ 0.1 ‘ ’ 1\n"
      ]
     },
     "metadata": {},
     "output_type": "display_data"
    }
   ],
   "source": [
    "%R print(anova(fit, fitno3way))\n"
   ]
  }
 ],
 "metadata": {
  "kernelspec": {
   "display_name": "Python 2",
   "language": "python",
   "name": "python2"
  },
  "language_info": {
   "codemirror_mode": {
    "name": "ipython",
    "version": 2
   },
   "file_extension": ".py",
   "mimetype": "text/x-python",
   "name": "python",
   "nbconvert_exporter": "python",
   "pygments_lexer": "ipython2",
   "version": "2.7.6"
  }
 },
 "nbformat": 4,
 "nbformat_minor": 0
}
